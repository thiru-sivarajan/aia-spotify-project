{
 "cells": [
  {
   "cell_type": "markdown",
   "metadata": {},
   "source": [
    "## Project Template: Phase 1\n",
    "\n",
    "Below are some concrete steps that you can take while doing your analysis. This guide isn't \"one size fit all\" so you will probably not do everything listed. But it still serves as a good \"pipeline\" for how to do data analysis.\n",
    "\n",
    "If you do engage in a step, you should clearly mention it in the notebook.\n",
    "\n",
    "---\n"
   ]
  },
  {
   "cell_type": "markdown",
   "metadata": {},
   "source": [
    "## Loading Data\n",
    "\n",
    "1. Load up your data\n",
    "2. Decide what you want to predict\n",
    "\n",
    "### Refresher on Data Types\n",
    "\n",
    "* Scalar (no transformation needed)\n",
    "    * Numeric\n",
    "    * Discrete\n",
    "        * Ordinal\n",
    "        * Binary\n",
    "* Text\n",
    "    * Bag of Words, TF-IDF, Embeddings\n",
    "* Sets (e.g. tags)\n",
    "    * Can't do simple bag of words, since tags can be multi word\n",
    "    * One hot encoding\n",
    "* Time series\n",
    "    * Naive approaches\n",
    "        * Last value\n",
    "        * Average, Median\n",
    "        * Max/min\n",
    "* Numeric Data that isn't directly interpretable (e.g. geospatial data)"
   ]
  },
  {
   "cell_type": "code",
   "execution_count": null,
   "metadata": {},
   "outputs": [],
   "source": []
  },
  {
   "cell_type": "code",
   "execution_count": null,
   "metadata": {},
   "outputs": [],
   "source": []
  },
  {
   "cell_type": "markdown",
   "metadata": {},
   "source": [
    "## Exploratory Data Analysis (EDA)\n",
    "\n",
    "1. Decide if feature selection is needed.\n",
    "    * Do you have hihgly correlated features?\n",
    "2. Decide if you have non-scalar attributes.\n",
    "3. What type of supervised learning is this?\n",
    "    * Binary Classification\n",
    "    * Multi-class classification?\n",
    "    * Ordinal classification [Tricky]\n",
    "        * Do you want to change this into regression or binarize into binary classification?\n",
    "    * Regression\n",
    "4. If doing classification\n",
    "    1. Decide whether you class variable makes sense.\n",
    "    2. Figure out what your class balance is\n",
    "5. Histogram the features\n",
    "    * Good if distribution is highly skewed\n",
    "6. Vizualize using reduced dimensions\n",
    "    * PCA, MVD\n",
    "    * T-SNE"
   ]
  },
  {
   "cell_type": "code",
   "execution_count": null,
   "metadata": {},
   "outputs": [],
   "source": []
  },
  {
   "cell_type": "code",
   "execution_count": null,
   "metadata": {},
   "outputs": [],
   "source": []
  },
  {
   "cell_type": "markdown",
   "metadata": {},
   "source": [
    "## Preprocessing\n",
    "\n",
    "1. Remove meaningless features (e.g. IDs), or unfair features (e.g. percent grade should be removed if predicing final grade)\n",
    "2. Discretization\n",
    "3. Transform features into usable formats (standardize dates, vectorize words)\n",
    "4. Transform data to a wide format (one row per prediction)\n",
    "5. **Feature Selection**: Remove redundant, noisy features or unhelpful features\n",
    "6. Feature creation\n",
    "    * Use an external tool (e.g. analyzing sentiment from text)\n",
    "7. Revist EDA using processed features"
   ]
  },
  {
   "cell_type": "code",
   "execution_count": null,
   "metadata": {},
   "outputs": [],
   "source": []
  },
  {
   "cell_type": "code",
   "execution_count": null,
   "metadata": {},
   "outputs": [],
   "source": []
  }
 ],
 "metadata": {
  "kernelspec": {
   "display_name": "Python 3 (ipykernel)",
   "language": "python",
   "name": "python3"
  },
  "language_info": {
   "codemirror_mode": {
    "name": "ipython",
    "version": 3
   },
   "file_extension": ".py",
   "mimetype": "text/x-python",
   "name": "python",
   "nbconvert_exporter": "python",
   "pygments_lexer": "ipython3",
   "version": "3.11.5"
  },
  "widgets": {
   "application/vnd.jupyter.widget-state+json": {
    "state": {},
    "version_major": 2,
    "version_minor": 0
   }
  }
 },
 "nbformat": 4,
 "nbformat_minor": 4
}
